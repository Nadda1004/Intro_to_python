{
 "cells": [
  {
   "cell_type": "markdown",
   "metadata": {},
   "source": [
    "# Day 2 - Intro to Python : Basics Functions 2"
   ]
  },
  {
   "cell_type": "markdown",
   "metadata": {},
   "source": [
    "## Countdown "
   ]
  },
  {
   "cell_type": "markdown",
   "metadata": {},
   "source": [
    "#### Create a function that accepts a number as an input. Return a new list that counts down by one, from the number (as the 0th element) down to 0 (as the last element).\n",
    "Example: countdown(5) should return the list: [5,4,3,2,1,0]"
   ]
  },
  {
   "cell_type": "code",
   "execution_count": 4,
   "metadata": {},
   "outputs": [
    {
     "data": {
      "text/plain": [
       "[5, 4, 3, 2, 1, 0]"
      ]
     },
     "execution_count": 4,
     "metadata": {},
     "output_type": "execute_result"
    }
   ],
   "source": [
    "def countdown(num):\n",
    "    c_list = []\n",
    "    for i in range(num , -1 , -1):\n",
    "        c_list.append(i)\n",
    "    return c_list\n",
    "\n",
    "\n",
    "c_list = countdown(5)\n",
    "c_list"
   ]
  },
  {
   "cell_type": "markdown",
   "metadata": {},
   "source": [
    "## Print and Return"
   ]
  },
  {
   "cell_type": "markdown",
   "metadata": {},
   "source": [
    "#### Create a function that will receive a list with two numbers. Print the first value and return the second.\n",
    "Example: print_and_return([1,2]) should print 1 and return 2"
   ]
  },
  {
   "cell_type": "code",
   "execution_count": 6,
   "metadata": {},
   "outputs": [
    {
     "name": "stdout",
     "output_type": "stream",
     "text": [
      "1\n"
     ]
    },
    {
     "data": {
      "text/plain": [
       "5"
      ]
     },
     "execution_count": 6,
     "metadata": {},
     "output_type": "execute_result"
    }
   ],
   "source": [
    "def print_and_return(mylist):\n",
    "    print(mylist[0])\n",
    "    return mylist[1]\n",
    "\n",
    "\n",
    "print_and_return([1,5])"
   ]
  },
  {
   "cell_type": "markdown",
   "metadata": {},
   "source": [
    "## First Plus Length"
   ]
  },
  {
   "cell_type": "markdown",
   "metadata": {},
   "source": [
    "#### Create a function that accepts a list and returns the sum of the first value in the list plus the list's length.\n",
    "Example: first_plus_length([1,2,3,4,5]) should return 6 (first value: 1 + length: 5)"
   ]
  },
  {
   "cell_type": "code",
   "execution_count": 7,
   "metadata": {},
   "outputs": [
    {
     "data": {
      "text/plain": [
       "5"
      ]
     },
     "execution_count": 7,
     "metadata": {},
     "output_type": "execute_result"
    }
   ],
   "source": [
    "def first_plus_length(mylist):\n",
    "    return mylist[0] + mylist[len(mylist)-1]\n",
    "\n",
    "\n",
    "first_plus_length([1,2,3,4])"
   ]
  },
  {
   "cell_type": "markdown",
   "metadata": {},
   "source": [
    "## This Length, That Value"
   ]
  },
  {
   "cell_type": "markdown",
   "metadata": {},
   "source": [
    "#### Write a function that accepts two integers as parameters: size and value. The function should create and return a list whose length is equal to the given size, and whose values are all the given value.\n",
    "Example: length_and_value(4,7) should return [7,7,7,7]\n",
    "Example: length_and_value(6,2) should return [2,2,2,2,2,2]"
   ]
  },
  {
   "cell_type": "code",
   "execution_count": 9,
   "metadata": {},
   "outputs": [
    {
     "data": {
      "text/plain": [
       "[3, 3, 3, 3, 3]"
      ]
     },
     "execution_count": 9,
     "metadata": {},
     "output_type": "execute_result"
    }
   ],
   "source": [
    "def length_and_value(n1 ,n2):\n",
    "    mylist = []\n",
    "    for i in range(n1):\n",
    "        mylist.append(n2)\n",
    "    return mylist\n",
    "\n",
    "length_and_value(5 , 3)"
   ]
  },
  {
   "cell_type": "markdown",
   "metadata": {},
   "source": [
    "## Values Greater than Second (Optional)"
   ]
  },
  {
   "cell_type": "markdown",
   "metadata": {},
   "source": [
    "#### Write a function that accepts a list and creates a new list containing only the values from the original list that are greater than its 2nd value. Print how many values this is and then return the new list. If the list has less than 2 elements, have the function return False\n",
    "Example: values_greater_than_second([5,2,3,2,1,4]) should print 3 and return [5,3,4]\n",
    "Example: values_greater_than_second([3]) should return False"
   ]
  },
  {
   "cell_type": "code",
   "execution_count": 17,
   "metadata": {},
   "outputs": [
    {
     "name": "stdout",
     "output_type": "stream",
     "text": [
      "3\n"
     ]
    },
    {
     "data": {
      "text/plain": [
       "[5, 3, 4]"
      ]
     },
     "execution_count": 17,
     "metadata": {},
     "output_type": "execute_result"
    }
   ],
   "source": [
    "def values_greater_than_second(mylist):\n",
    "    newlist = []\n",
    "    for i in range(len(mylist)):\n",
    "        if mylist[i] > mylist[1]:\n",
    "            newlist.append(mylist[i])\n",
    "        \n",
    "    print(len(newlist))\n",
    "    return newlist\n",
    "    \n",
    "    \n",
    "values_greater_than_second([5,2,3,2,1,4])"
   ]
  },
  {
   "cell_type": "code",
   "execution_count": null,
   "metadata": {},
   "outputs": [],
   "source": []
  }
 ],
 "metadata": {
  "kernelspec": {
   "display_name": "Python 3",
   "language": "python",
   "name": "python3"
  },
  "language_info": {
   "codemirror_mode": {
    "name": "ipython",
    "version": 3
   },
   "file_extension": ".py",
   "mimetype": "text/x-python",
   "name": "python",
   "nbconvert_exporter": "python",
   "pygments_lexer": "ipython3",
   "version": "3.7.4"
  }
 },
 "nbformat": 4,
 "nbformat_minor": 2
}

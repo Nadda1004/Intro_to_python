{
  "nbformat": 4,
  "nbformat_minor": 0,
  "metadata": {
    "colab": {
      "name": "WeekendProject_MonteCarlo.ipynb",
      "provenance": [],
      "collapsed_sections": [],
      "include_colab_link": true
    },
    "kernelspec": {
      "name": "python3",
      "display_name": "Python 3"
    }
  },
  "cells": [
    {
      "cell_type": "markdown",
      "metadata": {
        "id": "view-in-github",
        "colab_type": "text"
      },
      "source": [
        "<a href=\"https://colab.research.google.com/github/Nadda1004/Intro_to_python/blob/main/W1_D5_WeekendProject_MonteCarlo.ipynb\" target=\"_parent\"><img src=\"https://colab.research.google.com/assets/colab-badge.svg\" alt=\"Open In Colab\"/></a>"
      ]
    },
    {
      "cell_type": "markdown",
      "metadata": {
        "id": "rnj0wuNtHt8E"
      },
      "source": [
        "##Project P5\n",
        "\n",
        "**There is a famous problem in statistics that concerns a room full of people: Same Birthday!**\n",
        "\n",
        "An instructor offers a prize of $20.00 to anyone who thinks that two people in the room have the same birthday.\n",
        "\n",
        "Your assignment is to build a Monte Carlo simulation to tell the instructor how many people need to be in the room to give him/her a better than 50% chance of winning the $20.\n",
        "\n",
        "That is to say how many people need to be in a room in order for the probability of two of them having the same birthday is greater than 50%. Do the same for 95% and 99%."
      ]
    },
    {
      "cell_type": "markdown",
      "metadata": {
        "id": "wzE-XVyZ6Rcc"
      },
      "source": [
        "**Group members:**\\\r\n",
        "Nada Alzahrani\\\r\n",
        "Mashael Alsaeed\\\r\n",
        "Shaima Aljahani\\\r\n",
        "Bedoor Alharbi\r\n"
      ]
    },
    {
      "cell_type": "code",
      "metadata": {
        "id": "yrzJvKsEHhda"
      },
      "source": [
        "import numpy as np\r\n",
        "from scipy import stats\r\n",
        "import random\r\n",
        "import pandas as pd"
      ],
      "execution_count": 25,
      "outputs": []
    },
    {
      "cell_type": "code",
      "metadata": {
        "id": "Og5IlcBIH-J0"
      },
      "source": [
        "# Create funtion to run simulations\n",
        "def simulation(percent):\n",
        "  people = 5000\n",
        "  # set up variable for storing matches\n",
        "  matches = 0\n",
        "  # make an array to hold the outcome (1 for match, 0 for no match)\n",
        "  list_out = np.array([0 for i in range(0 , 366)])\n",
        "  num_of_people = 0\n",
        "\n",
        "  for p in range(people):\n",
        "    # give each person a birthday\n",
        "    for person in range(people):\n",
        "      # 365 days in the year\n",
        "      day = random.randint(1, 365)\n",
        "      # if someone else already has this birthday\n",
        "      if day in list_out:\n",
        "        # we have a match\n",
        "        matches += 1\n",
        "        # end the trial\n",
        "        break\n",
        "    # show that this day is taken\n",
        "    list_out[day] = 1\n",
        "    cal_percentage = (matches/people) * 100\n",
        "    if cal_percentage > percent:\n",
        "      num_of_people = matches\n",
        "      pair_result = [num_of_people , cal_percentage]\n",
        "      break\n",
        "\n",
        "  print(\"Number Of People: \", num_of_people , \" out of \" , people)\n",
        "  print(\"The chance of winning %.2f\" % cal_percentage)\n",
        "\n",
        "  return pair_result"
      ],
      "execution_count": 19,
      "outputs": []
    },
    {
      "cell_type": "code",
      "metadata": {
        "id": "sfvmgj26IA6o",
        "colab": {
          "base_uri": "https://localhost:8080/"
        },
        "outputId": "2312c809-a654-4c9b-b1a5-676f84f33b7e"
      },
      "source": [
        "# Run simulations\r\n",
        "list1 = simulation(50)\r\n",
        "print(\"__________________\")\r\n",
        "list2 = simulation(95)\r\n",
        "print(\"__________________\")\r\n",
        "list3 = simulation(99)"
      ],
      "execution_count": 20,
      "outputs": [
        {
          "output_type": "stream",
          "text": [
            "Number Of People:  2501  out of  5000\n",
            "The chance of winning 50.02\n",
            "__________________\n",
            "Number Of People:  4751  out of  5000\n",
            "The chance of winning 95.02\n",
            "__________________\n",
            "Number Of People:  4951  out of  5000\n",
            "The chance of winning 99.02\n"
          ],
          "name": "stdout"
        }
      ]
    },
    {
      "cell_type": "code",
      "metadata": {
        "id": "lzPJHmdaICpW",
        "colab": {
          "base_uri": "https://localhost:8080/",
          "height": 137
        },
        "outputId": "6f77cbe2-0746-479d-a2f2-3231068cbd22"
      },
      "source": [
        "# Communicate results\r\n",
        "df_results = pd.DataFrame(np.array([list1 , list2 , list3]))\r\n",
        "df_results.columns = [\"People\" , \"Percent\"]\r\n",
        "df_results"
      ],
      "execution_count": 32,
      "outputs": [
        {
          "output_type": "execute_result",
          "data": {
            "text/html": [
              "<div>\n",
              "<style scoped>\n",
              "    .dataframe tbody tr th:only-of-type {\n",
              "        vertical-align: middle;\n",
              "    }\n",
              "\n",
              "    .dataframe tbody tr th {\n",
              "        vertical-align: top;\n",
              "    }\n",
              "\n",
              "    .dataframe thead th {\n",
              "        text-align: right;\n",
              "    }\n",
              "</style>\n",
              "<table border=\"1\" class=\"dataframe\">\n",
              "  <thead>\n",
              "    <tr style=\"text-align: right;\">\n",
              "      <th></th>\n",
              "      <th>People</th>\n",
              "      <th>Percent</th>\n",
              "    </tr>\n",
              "  </thead>\n",
              "  <tbody>\n",
              "    <tr>\n",
              "      <th>0</th>\n",
              "      <td>2501.0</td>\n",
              "      <td>50.02</td>\n",
              "    </tr>\n",
              "    <tr>\n",
              "      <th>1</th>\n",
              "      <td>4751.0</td>\n",
              "      <td>95.02</td>\n",
              "    </tr>\n",
              "    <tr>\n",
              "      <th>2</th>\n",
              "      <td>4951.0</td>\n",
              "      <td>99.02</td>\n",
              "    </tr>\n",
              "  </tbody>\n",
              "</table>\n",
              "</div>"
            ],
            "text/plain": [
              "   People  Percent\n",
              "0  2501.0    50.02\n",
              "1  4751.0    95.02\n",
              "2  4951.0    99.02"
            ]
          },
          "metadata": {
            "tags": []
          },
          "execution_count": 32
        }
      ]
    }
  ]
}
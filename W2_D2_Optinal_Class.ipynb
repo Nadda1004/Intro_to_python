{
  "nbformat": 4,
  "nbformat_minor": 0,
  "metadata": {
    "colab": {
      "name": "W2_D2_Optinal_Class.ipynb",
      "provenance": [],
      "collapsed_sections": [],
      "authorship_tag": "ABX9TyNQH2DypJYzfe10xHgbQEz/",
      "include_colab_link": true
    },
    "kernelspec": {
      "name": "python3",
      "display_name": "Python 3"
    }
  },
  "cells": [
    {
      "cell_type": "markdown",
      "metadata": {
        "id": "view-in-github",
        "colab_type": "text"
      },
      "source": [
        "<a href=\"https://colab.research.google.com/github/Nadda1004/Intro_to_python/blob/main/W2_D2_Optinal_Class.ipynb\" target=\"_parent\"><img src=\"https://colab.research.google.com/assets/colab-badge.svg\" alt=\"Open In Colab\"/></a>"
      ]
    },
    {
      "cell_type": "markdown",
      "metadata": {
        "id": "nMEI-nmLspMU"
      },
      "source": [
        "# Company Class Defenition"
      ]
    },
    {
      "cell_type": "code",
      "metadata": {
        "id": "XGATOgHAj3pO"
      },
      "source": [
        "class Company:\r\n",
        "  def __init__(self, name , industry_type , num_employees , total_revenue):\r\n",
        "    # holding the name of the company \r\n",
        "    self.name = name\r\n",
        "\r\n",
        "    # holding what industry the company belongs to\r\n",
        "    self.industry_type = industry_type\r\n",
        "\r\n",
        "    # holding the number of employees the company has\r\n",
        "    self.num_employees = num_employees\r\n",
        "\r\n",
        "    # holding the total revenue of the company \r\n",
        "    self.total_revenue = total_revenue\r\n",
        "\r\n",
        "\r\n",
        "  def serve_customer(self , serving_cost):\r\n",
        "    # this method will take in a `float` that is equal to the \r\n",
        "    # cost of serving some customer, and then adjust the `total_revenue` by that cost. \r\n",
        "    print('Total Revenue Before Serving: ' , self.total_revenue)\r\n",
        "    self.total_revenue += serving_cost\r\n",
        "    print('Total Revenue After Serving: ' , self.total_revenue)\r\n",
        "\r\n",
        "\r\n",
        "\r\n",
        "  def gain_employees(self , employee_list):\r\n",
        "    # this method will take in a `list` that contains new employees that the company has just \r\n",
        "    # brought on, and will update the `num_employees` attribute to take account of that. \r\n",
        "    print(\"Total Number of employees before : \" , self.num_employees)\r\n",
        "    self.num_employees += len(employee_list)\r\n",
        "    print(\"Total Number of employees aftr : \" , self.num_employees)"
      ],
      "execution_count": 8,
      "outputs": []
    },
    {
      "cell_type": "code",
      "metadata": {
        "id": "9ol98QbksoBC"
      },
      "source": [
        "company1 = Company(\"Riyadh Tea Co.\" , \"Food Service\" , 10000 , 5000000)"
      ],
      "execution_count": 9,
      "outputs": []
    },
    {
      "cell_type": "code",
      "metadata": {
        "colab": {
          "base_uri": "https://localhost:8080/"
        },
        "id": "GqSDcTY9tSOA",
        "outputId": "783fc2e6-ecc8-4886-a50a-20c8b143e31e"
      },
      "source": [
        "company1.serve_customer(50)"
      ],
      "execution_count": 10,
      "outputs": [
        {
          "output_type": "stream",
          "text": [
            "Total Revenue Before Serving:  5000000\n",
            "Total Revenue After Serving:  5000050\n"
          ],
          "name": "stdout"
        }
      ]
    },
    {
      "cell_type": "code",
      "metadata": {
        "colab": {
          "base_uri": "https://localhost:8080/"
        },
        "id": "zrg1C375uBPW",
        "outputId": "c2b5acd6-0ba8-4e0e-cf9b-cf4632643d83"
      },
      "source": [
        "company1.gain_employees([\"Nada\" , \"Maha\" , \"Mona\"])"
      ],
      "execution_count": 11,
      "outputs": [
        {
          "output_type": "stream",
          "text": [
            "Total Number of employees before :  10000\n",
            "Total Number of employees aftr :  10003\n"
          ],
          "name": "stdout"
        }
      ]
    },
    {
      "cell_type": "markdown",
      "metadata": {
        "id": "IGT5JaqGuKQj"
      },
      "source": [
        "# TV Class Defention "
      ]
    },
    {
      "cell_type": "code",
      "metadata": {
        "id": "RpLvWil8olid"
      },
      "source": [
        "class TV:\r\n",
        "  def __init__(self , brand , on_status , current_channel , life_perc):\r\n",
        "    # holding the brand of the television ('Sony', 'LG', etc.)\r\n",
        "    self.brand = brand\r\n",
        "\r\n",
        "    # holding whether or not the television is on. This should default to False (e.g. off).\r\n",
        "    self.on_status = on_status\r\n",
        "\r\n",
        "    # holding the current channel number. If the television is off, then the `current_channel` should be 0. \r\n",
        "    # Given that `on_status` defaults to off, what does that mean the `current_channel` should default to?\r\n",
        "    self.current_channel = current_channel\r\n",
        "\r\n",
        "    # holding the percentage of life left in the TV. This should start out at 100% (i.e. default to 100). \r\n",
        "    self.life_perc = life_perc\r\n",
        "\r\n",
        "  def hit_power(self):\r\n",
        "    # this will turn the television on/off, depending on whether it's already \r\n",
        "    #on/off (if its on it'll switch it off, and vice versa).\r\n",
        "    if self.on_status == True:\r\n",
        "      print(\"TV is Turning Off!\")\r\n",
        "      # Each time the television is turned off the channel should be set to 0. \r\n",
        "      self.current_channel = 0\r\n",
        "      self.on_status = False\r\n",
        "      # decrease the `life_perc` by 0.01 each time the television is turned off.\r\n",
        "      self.life_perc -= 0.1\r\n",
        "      print(\"Current Life Perception: \" , self.life_perc)\r\n",
        "    else:\r\n",
        "      print(\"TV is Turning On!\")\r\n",
        "      self.on_status = True\r\n",
        "\r\n",
        "\r\n",
        "  def change_channel(self , channel_num):\r\n",
        "    # this will take in an `int` to change the channel to a new one.\r\n",
        "    if self.on_status == True:\r\n",
        "      # change the channel to the inputted channel. \r\n",
        "      print(\"Current channel: \" , self.current_channel)\r\n",
        "      self.current_channel = channel_num\r\n",
        "      print(\"Cannel change to: \", self.current_channel)\r\n",
        "    else:\r\n",
        "      # If the television is not on, but the `change_channel` method is called, print 'Television is not on!'\r\n",
        "      print(\"Television is not on!\")\r\n"
      ],
      "execution_count": 31,
      "outputs": []
    },
    {
      "cell_type": "code",
      "metadata": {
        "id": "Enp1c0dnuO2f"
      },
      "source": [
        "tv1 = TV(\"SAMSUNG\" , True , 2 , 100)"
      ],
      "execution_count": 32,
      "outputs": []
    },
    {
      "cell_type": "code",
      "metadata": {
        "colab": {
          "base_uri": "https://localhost:8080/"
        },
        "id": "v4RTlfmsudiQ",
        "outputId": "104e401e-378d-4873-b6be-341129f164bc"
      },
      "source": [
        "tv1.hit_power()"
      ],
      "execution_count": 33,
      "outputs": [
        {
          "output_type": "stream",
          "text": [
            "TV is Turning Off!\n",
            "Current Life Perception:  99.9\n"
          ],
          "name": "stdout"
        }
      ]
    },
    {
      "cell_type": "code",
      "metadata": {
        "colab": {
          "base_uri": "https://localhost:8080/"
        },
        "id": "xyl7ty2TuhqA",
        "outputId": "9d2cf980-e3e6-48a9-ee99-edecc89eecbe"
      },
      "source": [
        "tv1.change_channel(3)"
      ],
      "execution_count": 34,
      "outputs": [
        {
          "output_type": "stream",
          "text": [
            "Television is not on!\n"
          ],
          "name": "stdout"
        }
      ]
    },
    {
      "cell_type": "code",
      "metadata": {
        "colab": {
          "base_uri": "https://localhost:8080/"
        },
        "id": "EKvDucxCulsU",
        "outputId": "cd6e4734-1020-4f12-8d97-dda3d9cb0db9"
      },
      "source": [
        "tv1.hit_power()"
      ],
      "execution_count": 35,
      "outputs": [
        {
          "output_type": "stream",
          "text": [
            "TV is Turning On!\n"
          ],
          "name": "stdout"
        }
      ]
    },
    {
      "cell_type": "code",
      "metadata": {
        "colab": {
          "base_uri": "https://localhost:8080/"
        },
        "id": "naVskg3Yuoee",
        "outputId": "18dad966-b79e-43af-cfc3-a55333e71ac2"
      },
      "source": [
        "tv1.change_channel(4)"
      ],
      "execution_count": 36,
      "outputs": [
        {
          "output_type": "stream",
          "text": [
            "Current channel:  0\n",
            "Cannel change to:  4\n"
          ],
          "name": "stdout"
        }
      ]
    }
  ]
}
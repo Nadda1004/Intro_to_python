{
 "cells": [
  {
   "cell_type": "markdown",
   "metadata": {},
   "source": [
    "# Day 2 - Intro to Python : Basics Forloops 2"
   ]
  },
  {
   "cell_type": "markdown",
   "metadata": {},
   "source": [
    "## Biggie Size"
   ]
  },
  {
   "cell_type": "markdown",
   "metadata": {},
   "source": [
    "#### Given a list, write a function that changes all positive numbers in the list to \"big\".\n",
    "Example: biggie_size([-1, 3, 5, -5]) returns that same list, but whose values are now [-1, \"big\", \"big\", -5]"
   ]
  },
  {
   "cell_type": "code",
   "execution_count": 2,
   "metadata": {},
   "outputs": [
    {
     "data": {
      "text/plain": [
       "[-1, 'big', 'big', -5]"
      ]
     },
     "execution_count": 2,
     "metadata": {},
     "output_type": "execute_result"
    }
   ],
   "source": [
    "def biggie_size(mylist):\n",
    "    for i in range(len(mylist)):\n",
    "        if mylist[i] > 0:\n",
    "            mylist[i] = \"big\"\n",
    "    return mylist\n",
    "\n",
    "\n",
    "biggie_size([-1, 3, 5, -5])"
   ]
  },
  {
   "cell_type": "markdown",
   "metadata": {},
   "source": [
    "##  Count Positives"
   ]
  },
  {
   "cell_type": "markdown",
   "metadata": {},
   "source": [
    "#### Given a list of numbers, create a function to replace the last value with the number of positive values. (Note that zero is not considered to be a positive number).\n",
    "Example: count_positives([-1,1,1,1]) changes the original list to [-1,1,1,3] and returns it\n",
    "Example: count_positives([1,6,-4,-2,-7,-2]) changes the list to [1,6,-4,-2,-7,2] and returns it"
   ]
  },
  {
   "cell_type": "code",
   "execution_count": 3,
   "metadata": {},
   "outputs": [
    {
     "data": {
      "text/plain": [
       "[-1, 1, 1, 3]"
      ]
     },
     "execution_count": 3,
     "metadata": {},
     "output_type": "execute_result"
    }
   ],
   "source": [
    "def count_positives(mylist):\n",
    "    counter = 0\n",
    "    for i in range(len(mylist)):\n",
    "        if mylist[i] > 0:\n",
    "            counter += 1\n",
    "            \n",
    "    mylist[len(mylist)-1] = counter\n",
    "    return mylist\n",
    "\n",
    "\n",
    "count_positives([-1,1,1,1])"
   ]
  },
  {
   "cell_type": "markdown",
   "metadata": {},
   "source": [
    "## Sum Total"
   ]
  },
  {
   "cell_type": "markdown",
   "metadata": {},
   "source": [
    "#### Create a function that takes a list and returns the sum of all the values in the array.\n",
    "Example: sum_total([1,2,3,4]) should return 10\n",
    "Example: sum_total([6,3,-2]) should return 7"
   ]
  },
  {
   "cell_type": "code",
   "execution_count": 5,
   "metadata": {},
   "outputs": [
    {
     "data": {
      "text/plain": [
       "10"
      ]
     },
     "execution_count": 5,
     "metadata": {},
     "output_type": "execute_result"
    }
   ],
   "source": [
    "def sum_total(mylist):\n",
    "    sum=0\n",
    "    for i in range(len(mylist)):\n",
    "        sum += mylist[i]\n",
    "        \n",
    "    return sum\n",
    "\n",
    "\n",
    "sum_total([1,2,3,4]) "
   ]
  },
  {
   "cell_type": "markdown",
   "metadata": {},
   "source": [
    "## Average"
   ]
  },
  {
   "cell_type": "markdown",
   "metadata": {},
   "source": [
    "#### Create a function that takes a list and returns the average of all the values.\n",
    "Example: average([1,2,3,4]) should return 2.5"
   ]
  },
  {
   "cell_type": "code",
   "execution_count": 6,
   "metadata": {},
   "outputs": [
    {
     "data": {
      "text/plain": [
       "2.5"
      ]
     },
     "execution_count": 6,
     "metadata": {},
     "output_type": "execute_result"
    }
   ],
   "source": [
    "def average(mylist):\n",
    "    sum=0\n",
    "    for i in range(len(mylist)):\n",
    "        sum += mylist[i]\n",
    "        \n",
    "    return sum/len(mylist)\n",
    "\n",
    "\n",
    "average([1,2,3,4])"
   ]
  },
  {
   "cell_type": "markdown",
   "metadata": {},
   "source": [
    "## Length "
   ]
  },
  {
   "cell_type": "markdown",
   "metadata": {},
   "source": [
    "#### Create a function that takes a list and returns the length of the list.\n",
    "Example: length([37,2,1,-9]) should return 4\n",
    "Example: length([]) should return 0"
   ]
  },
  {
   "cell_type": "code",
   "execution_count": 7,
   "metadata": {},
   "outputs": [
    {
     "data": {
      "text/plain": [
       "4"
      ]
     },
     "execution_count": 7,
     "metadata": {},
     "output_type": "execute_result"
    }
   ],
   "source": [
    "def length(mylist):\n",
    "    return len(mylist)\n",
    "\n",
    "\n",
    "length([37,2,1,-9])"
   ]
  },
  {
   "cell_type": "markdown",
   "metadata": {},
   "source": [
    "## Minimum "
   ]
  },
  {
   "cell_type": "markdown",
   "metadata": {},
   "source": [
    "#### Create a function that takes a list of numbers and returns the minimum value in the list. (Optional) If the list is empty, have the function return False.\n",
    "Example: minimum([37,2,1,-9]) should return -9\n",
    "(Optional) Example: minimum([]) should return False"
   ]
  },
  {
   "cell_type": "code",
   "execution_count": 9,
   "metadata": {},
   "outputs": [
    {
     "data": {
      "text/plain": [
       "-9"
      ]
     },
     "execution_count": 9,
     "metadata": {},
     "output_type": "execute_result"
    }
   ],
   "source": [
    "def minimum(mylist):\n",
    "    if len(mylist) > 0:\n",
    "        return min(mylist)\n",
    "    else:\n",
    "        return False \n",
    "    \n",
    "    \n",
    "minimum([37,2,1,-9])"
   ]
  },
  {
   "cell_type": "code",
   "execution_count": 10,
   "metadata": {},
   "outputs": [
    {
     "data": {
      "text/plain": [
       "False"
      ]
     },
     "execution_count": 10,
     "metadata": {},
     "output_type": "execute_result"
    }
   ],
   "source": [
    "minimum([])"
   ]
  },
  {
   "cell_type": "markdown",
   "metadata": {},
   "source": [
    "## Maximum "
   ]
  },
  {
   "cell_type": "markdown",
   "metadata": {},
   "source": [
    "#### Create a function that takes a list and returns the maximum value in the array. (Optional) If the list is empty, have the function return False.\n",
    "Example: maximum([37,2,1,-9]) should return 37\n",
    "(Optional) Example: maximum([]) should return False"
   ]
  },
  {
   "cell_type": "code",
   "execution_count": 12,
   "metadata": {},
   "outputs": [
    {
     "data": {
      "text/plain": [
       "37"
      ]
     },
     "execution_count": 12,
     "metadata": {},
     "output_type": "execute_result"
    }
   ],
   "source": [
    "def maximum(mylist):\n",
    "    if len(mylist) > 0:\n",
    "        return max(mylist)\n",
    "    else:\n",
    "        return False \n",
    "    \n",
    "    \n",
    "maximum([37,2,1,-9])"
   ]
  },
  {
   "cell_type": "code",
   "execution_count": 13,
   "metadata": {},
   "outputs": [
    {
     "data": {
      "text/plain": [
       "False"
      ]
     },
     "execution_count": 13,
     "metadata": {},
     "output_type": "execute_result"
    }
   ],
   "source": [
    "maximum([])"
   ]
  },
  {
   "cell_type": "markdown",
   "metadata": {},
   "source": [
    "## Ultimate Analysis (Optional)"
   ]
  },
  {
   "cell_type": "markdown",
   "metadata": {},
   "source": [
    "#### Create a function that takes a list and returns a dictionary that has the sumTotal, average, minimum, maximum and length of the list.\n",
    "Example: ultimate_analysis([37,2,1,-9]) should return {'sumTotal': 31, 'average': 7.75, 'minimum': -9, 'maximum': 37, 'length': 4 }"
   ]
  },
  {
   "cell_type": "code",
   "execution_count": 14,
   "metadata": {},
   "outputs": [
    {
     "data": {
      "text/plain": [
       "{'sumTotal': 31, 'average': 7.75, 'minimum': -9, 'maximum': 37, 'length': 4}"
      ]
     },
     "execution_count": 14,
     "metadata": {},
     "output_type": "execute_result"
    }
   ],
   "source": [
    "def ultimate_analysis(mylist):\n",
    "    sum = 0\n",
    "    for i in range(len(mylist)):\n",
    "        sum += mylist[i]\n",
    "    \n",
    "    average = sum / len(mylist)\n",
    "    \n",
    "    analysis = {'sumTotal': sum, 'average': average, 'minimum': min(mylist), 'maximum': max(mylist), 'length': len(mylist) }\n",
    "    return analysis\n",
    "\n",
    "\n",
    "ultimate_analysis([37,2,1,-9])"
   ]
  },
  {
   "cell_type": "code",
   "execution_count": null,
   "metadata": {},
   "outputs": [],
   "source": []
  }
 ],
 "metadata": {
  "kernelspec": {
   "display_name": "Python 3",
   "language": "python",
   "name": "python3"
  },
  "language_info": {
   "codemirror_mode": {
    "name": "ipython",
    "version": 3
   },
   "file_extension": ".py",
   "mimetype": "text/x-python",
   "name": "python",
   "nbconvert_exporter": "python",
   "pygments_lexer": "ipython3",
   "version": "3.7.4"
  }
 },
 "nbformat": 4,
 "nbformat_minor": 2
}
